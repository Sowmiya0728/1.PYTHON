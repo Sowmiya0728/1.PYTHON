{
 "cells": [
  {
   "cell_type": "code",
   "execution_count": null,
   "id": "e78364b8",
   "metadata": {},
   "outputs": [],
   "source": [
    "if(condiation):\n",
    "    print()\n",
    "else:"
   ]
  },
  {
   "cell_type": "code",
   "execution_count": null,
   "id": "5de2ef7a",
   "metadata": {},
   "outputs": [],
   "source": [
    "for temp in range(1,10):"
   ]
  },
  {
   "cell_type": "code",
   "execution_count": null,
   "id": "903dda8d",
   "metadata": {},
   "outputs": [],
   "source": [
    "def():\n",
    "    "
   ]
  }
 ],
 "metadata": {
  "kernelspec": {
   "display_name": "Python 3 (ipykernel)",
   "language": "python",
   "name": "python3"
  },
  "language_info": {
   "codemirror_mode": {
    "name": "ipython",
    "version": 3
   },
   "file_extension": ".py",
   "mimetype": "text/x-python",
   "name": "python",
   "nbconvert_exporter": "python",
   "pygments_lexer": "ipython3",
   "version": "3.11.5"
  }
 },
 "nbformat": 4,
 "nbformat_minor": 5
}
