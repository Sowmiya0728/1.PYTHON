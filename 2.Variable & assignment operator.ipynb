{
 "cells": [
  {
   "cell_type": "code",
   "execution_count": 1,
   "id": "c160e503",
   "metadata": {},
   "outputs": [],
   "source": [
    "num1=10\n",
    "num2=30\n",
    "add=num1+num2"
   ]
  },
  {
   "cell_type": "code",
   "execution_count": 2,
   "id": "d36d34c0",
   "metadata": {},
   "outputs": [
    {
     "name": "stdout",
     "output_type": "stream",
     "text": [
      "add\n"
     ]
    }
   ],
   "source": [
    "num1=10\n",
    "num2=30\n",
    "add=num1+num2\n",
    "print(\"add\")"
   ]
  },
  {
   "cell_type": "code",
   "execution_count": 3,
   "id": "aca8670c",
   "metadata": {},
   "outputs": [
    {
     "name": "stdout",
     "output_type": "stream",
     "text": [
      "40\n"
     ]
    }
   ],
   "source": [
    "num1=10\n",
    "num2=30\n",
    "add=num1+num2\n",
    "print(add)"
   ]
  },
  {
   "cell_type": "code",
   "execution_count": 4,
   "id": "4aa17764",
   "metadata": {},
   "outputs": [
    {
     "name": "stdout",
     "output_type": "stream",
     "text": [
      "add\n",
      "40\n"
     ]
    }
   ],
   "source": [
    "num1=10\n",
    "num2=30\n",
    "add=num1+num2\n",
    "print(\"add\")\n",
    "print(add)"
   ]
  },
  {
   "cell_type": "code",
   "execution_count": 5,
   "id": "0b1042fa",
   "metadata": {},
   "outputs": [],
   "source": [
    "FirstName=\"Sowmiya\"\n",
    "firstName=\"Hi\""
   ]
  },
  {
   "cell_type": "code",
   "execution_count": 13,
   "id": "991835b3",
   "metadata": {},
   "outputs": [],
   "source": [
    "first=20"
   ]
  },
  {
   "cell_type": "code",
   "execution_count": 12,
   "id": "b38c7cfe",
   "metadata": {},
   "outputs": [
    {
     "name": "stdout",
     "output_type": "stream",
     "text": [
      "The addition of two numbers\n",
      "The number1: 10\n",
      "The number2: 20\n",
      "The answer: 30\n"
     ]
    }
   ],
   "source": [
    "print(\"The addition of two numbers\")\n",
    "num1=10\n",
    "print(\"The number1:\",num1)\n",
    "num2=20\n",
    "print(\"The number2:\",num2)\n",
    "add=num1+num2\n",
    "print(\"The answer:\",add)"
   ]
  },
  {
   "cell_type": "code",
   "execution_count": 20,
   "id": "4c8bdeba",
   "metadata": {},
   "outputs": [
    {
     "name": "stdout",
     "output_type": "stream",
     "text": [
      "Enter the num1:30\n",
      "Enter the num2:50\n",
      "80\n",
      "9\n"
     ]
    }
   ],
   "source": [
    "num1=int(input(\"Enter the num1:\"))\n",
    "num2=int(input(\"Enter the num2:\"))\n",
    "add=num1+num2\n",
    "mul=9\n",
    "print(add)\n",
    "print(mul)"
   ]
  },
  {
   "cell_type": "code",
   "execution_count": null,
   "id": "56d090ba",
   "metadata": {},
   "outputs": [],
   "source": []
  },
  {
   "cell_type": "code",
   "execution_count": null,
   "id": "55965009",
   "metadata": {},
   "outputs": [],
   "source": []
  }
 ],
 "metadata": {
  "kernelspec": {
   "display_name": "Python 3 (ipykernel)",
   "language": "python",
   "name": "python3"
  },
  "language_info": {
   "codemirror_mode": {
    "name": "ipython",
    "version": 3
   },
   "file_extension": ".py",
   "mimetype": "text/x-python",
   "name": "python",
   "nbconvert_exporter": "python",
   "pygments_lexer": "ipython3",
   "version": "3.11.5"
  }
 },
 "nbformat": 4,
 "nbformat_minor": 5
}
