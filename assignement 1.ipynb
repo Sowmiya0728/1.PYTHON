{
 "cells": [
  {
   "cell_type": "code",
   "execution_count": 1,
   "id": "7ac42b8a",
   "metadata": {},
   "outputs": [
    {
     "name": "stdout",
     "output_type": "stream",
     "text": [
      "HOPE AI\n"
     ]
    }
   ],
   "source": [
    "print(\"HOPE AI\")"
   ]
  },
  {
   "cell_type": "code",
   "execution_count": 2,
   "id": "6c0e7938",
   "metadata": {},
   "outputs": [
    {
     "name": "stdout",
     "output_type": "stream",
     "text": [
      "Enter your institute name?:HOPE AI\n"
     ]
    }
   ],
   "source": [
    "name=input(\"Enter your institute name?:\")"
   ]
  },
  {
   "cell_type": "code",
   "execution_count": 3,
   "id": "41b40c1d",
   "metadata": {},
   "outputs": [
    {
     "name": "stdout",
     "output_type": "stream",
     "text": [
      "Raj\n",
      "15\n",
      "Guru School\n",
      "B.E. CSE\n",
      "Enter your name: Raj\n",
      "Enter your age: 15\n",
      "Enter your school name: Guru School\n",
      "Enter your degree: B.E. CSE\n"
     ]
    }
   ],
   "source": [
    "name=input()\n",
    "age=input()\n",
    "school=input()\n",
    "degree=input()\n",
    "print(\"Enter your name:\",name)\n",
    "print(\"Enter your age:\",age)\n",
    "print(\"Enter your school name:\",school)\n",
    "print(\"Enter your degree:\",degree)"
   ]
  },
  {
   "cell_type": "code",
   "execution_count": 4,
   "id": "15413f36",
   "metadata": {},
   "outputs": [
    {
     "name": "stdout",
     "output_type": "stream",
     "text": [
      "43\n",
      "34\n",
      "a= 43\n",
      "b= 34\n",
      "add = 77\n"
     ]
    }
   ],
   "source": [
    "a=int(input())\n",
    "b=int(input())\n",
    "c=(a+b)\n",
    "print(\"a=\",a)\n",
    "print(\"b=\",b)\n",
    "print(\"add =\",c)"
   ]
  },
  {
   "cell_type": "code",
   "execution_count": 5,
   "id": "ee74af82",
   "metadata": {},
   "outputs": [
    {
     "name": "stdout",
     "output_type": "stream",
     "text": [
      "43\n",
      "34\n",
      "a= 43\n",
      "b= 34\n",
      "sub = 9\n"
     ]
    }
   ],
   "source": [
    "a=int(input())\n",
    "b=int(input())\n",
    "c=(a-b)\n",
    "print(\"a=\",a)\n",
    "print(\"b=\",b)\n",
    "print(\"sub =\",c)"
   ]
  },
  {
   "cell_type": "code",
   "execution_count": 6,
   "id": "5ca99bcd",
   "metadata": {},
   "outputs": [
    {
     "name": "stdout",
     "output_type": "stream",
     "text": [
      "63\n",
      "97\n",
      "a= 63\n",
      "b= 97\n",
      "mul = 6111\n"
     ]
    }
   ],
   "source": [
    "a=int(input())\n",
    "b=int(input())\n",
    "c=(a*b)\n",
    "print(\"a=\",a)\n",
    "print(\"b=\",b)\n",
    "print(\"mul =\",c)"
   ]
  },
  {
   "cell_type": "code",
   "execution_count": 7,
   "id": "447c11d6",
   "metadata": {},
   "outputs": [
    {
     "name": "stdout",
     "output_type": "stream",
     "text": [
      "76\n",
      "31\n",
      "a= 76\n",
      "b= 31\n",
      "Float Div = 2.4516129032258065\n"
     ]
    }
   ],
   "source": [
    "a=int(input())\n",
    "b=int(input())\n",
    "c=(a/b)\n",
    "print(\"a=\",a)\n",
    "print(\"b=\",b)\n",
    "print(\"Float Div =\",c)"
   ]
  },
  {
   "cell_type": "code",
   "execution_count": 8,
   "id": "c38fb088",
   "metadata": {},
   "outputs": [
    {
     "name": "stdout",
     "output_type": "stream",
     "text": [
      "76\n",
      "31\n",
      "a= 76\n",
      "b= 31\n",
      "Floor Div = 2\n"
     ]
    }
   ],
   "source": [
    "a=int(input())\n",
    "b=int(input())\n",
    "c=(a//b)\n",
    "print(\"a=\",a)\n",
    "print(\"b=\",b)\n",
    "print(\"Floor Div =\",c)"
   ]
  },
  {
   "cell_type": "code",
   "execution_count": null,
   "id": "c86f8afe",
   "metadata": {},
   "outputs": [],
   "source": [
    "a=int(input())\n",
    "b=int(input())\n",
    "c=(a%b)\n",
    "print(\"a=\",a)\n",
    "print(\"b=\",b)\n",
    "print(\"Modulo=\",c)"
   ]
  },
  {
   "cell_type": "code",
   "execution_count": null,
   "id": "0a3ed348",
   "metadata": {},
   "outputs": [],
   "source": []
  }
 ],
 "metadata": {
  "kernelspec": {
   "display_name": "Python 3 (ipykernel)",
   "language": "python",
   "name": "python3"
  },
  "language_info": {
   "codemirror_mode": {
    "name": "ipython",
    "version": 3
   },
   "file_extension": ".py",
   "mimetype": "text/x-python",
   "name": "python",
   "nbconvert_exporter": "python",
   "pygments_lexer": "ipython3",
   "version": "3.11.5"
  }
 },
 "nbformat": 4,
 "nbformat_minor": 5
}
